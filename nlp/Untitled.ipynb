{
 "cells": [
  {
   "cell_type": "code",
   "execution_count": 6,
   "metadata": {},
   "outputs": [],
   "source": [
    "import pickle\n",
    "from random import shuffle\n",
    "import pandas as pd\n",
    "import tensorflow as tf\n",
    "import numpy as np\n",
    "import random\n",
    "import keras\n",
    "\n",
    "from sklearn.model_selection import train_test_split\n",
    "from tensorflow.compat.v1.keras.models import Model, Sequential\n",
    "from tensorflow.compat.v1.keras.layers import *\n",
    "from tensorflow.compat.v1.keras.optimizers import Adam, SGD\n",
    "\n",
    "\n",
    "# %% [code] {\"scrolled:true\"}\n",
    "def extract_label(fd):\n",
    "    train_labels = []\n",
    "    with open(fd, 'rb') as f:\n",
    "        data = pickle.load(f)\n",
    "        train_labels.extend(data)\n",
    "    print(\"done\")\n",
    "    return data.keys(), data.values()"
   ]
  },
  {
   "cell_type": "code",
   "execution_count": 7,
   "metadata": {},
   "outputs": [
    {
     "name": "stdout",
     "output_type": "stream",
     "text": [
      "done\n"
     ]
    }
   ],
   "source": [
    "labels, embeddings = extract_label('./input/word_embeddings.pkl')"
   ]
  },
  {
   "cell_type": "code",
   "execution_count": 11,
   "metadata": {},
   "outputs": [
    {
     "name": "stdout",
     "output_type": "stream",
     "text": [
      "['w0', 'w1', 'w2', 'w3', 'w4', 'w5', 'w6', 'w7', 'w8', 'w9']\n",
      "100\n"
     ]
    }
   ],
   "source": [
    "print(list(labels)[:10])\n",
    "print(len(list(embeddings)[0]))"
   ]
  }
 ],
 "metadata": {
  "kernelspec": {
   "display_name": "Python 3.7.6 64-bit ('base': conda)",
   "language": "python",
   "name": "python37664bitbasecondae50fee32e3e34eeba00b2d9c856c8714"
  },
  "language_info": {
   "codemirror_mode": {
    "name": "ipython",
    "version": 3
   },
   "file_extension": ".py",
   "mimetype": "text/x-python",
   "name": "python",
   "nbconvert_exporter": "python",
   "pygments_lexer": "ipython3",
   "version": "3.7.6"
  }
 },
 "nbformat": 4,
 "nbformat_minor": 4
}
